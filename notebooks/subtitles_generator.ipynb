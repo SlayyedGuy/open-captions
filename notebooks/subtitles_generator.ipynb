{
  "cells": [
    {
      "cell_type": "markdown",
      "metadata": {
        "colab_type": "text",
        "id": "view-in-github"
      },
      "source": [
        "<a href=\"https://colab.research.google.com/github/konverner/subtitles-generator/blob/main/notebooks/subtitles_generator.ipynb\" target=\"_parent\"><img src=\"https://colab.research.google.com/assets/colab-badge.svg\" alt=\"Open In Colab\"/></a>"
      ]
    },
    {
      "cell_type": "markdown",
      "metadata": {
        "id": "WPHqnzfnOcJr"
      },
      "source": [
        "install"
      ]
    },
    {
      "cell_type": "code",
      "execution_count": null,
      "metadata": {
        "colab": {
          "base_uri": "https://localhost:8080/"
        },
        "id": "K4nKrt-SMLUw",
        "outputId": "a688b3fb-9f68-4428-ff81-407b2ebd1b1f"
      },
      "outputs": [
        {
          "name": "stdout",
          "output_type": "stream",
          "text": [
            "Cloning into 'subtitles-generator'...\n",
            "remote: Enumerating objects: 132, done.\u001b[K\n",
            "remote: Counting objects: 100% (132/132), done.\u001b[K\n",
            "remote: Compressing objects: 100% (127/127), done.\u001b[K\n",
            "remote: Total 132 (delta 64), reused 17 (delta 3), pack-reused 0\u001b[K\n",
            "Receiving objects: 100% (132/132), 350.25 KiB | 4.32 MiB/s, done.\n",
            "Resolving deltas: 100% (64/64), done.\n",
            "/content/subtitles-generator\n"
          ]
        }
      ],
      "source": [
        "!git clone https://github.com/slayyedguy/subtitles-generator.git\n",
        "%cd /content/subtitles-generator\n",
        "!pip install ."
      ]
    },
    {
      "cell_type": "markdown",
      "metadata": {
        "id": "DPPXxYfFOfF_"
      },
      "source": [
        "run with `large` `german` model on the video `videos/test.mp4`\n",
        "\n",
        "subtitles will be saved as `videos/test.srt`"
      ]
    },
    {
      "cell_type": "code",
      "execution_count": null,
      "metadata": {
        "id": "CdCeEvLSMQdw"
      },
      "outputs": [],
      "source": [
        "!python main.py --model_size large --lang german --input_file videos/test.mp4"
      ]
    }
  ],
  "metadata": {
    "accelerator": "GPU",
    "colab": {
      "authorship_tag": "ABX9TyNfMfRIM8n8dhWuKhHlEanQ",
      "gpuType": "T4",
      "include_colab_link": true,
      "mount_file_id": "1d0_n20OeNkfd2U9iTcmqCA4u-kJZQtVy",
      "provenance": []
    },
    "kernelspec": {
      "display_name": "Python 3",
      "name": "python3"
    },
    "language_info": {
      "name": "python"
    }
  },
  "nbformat": 4,
  "nbformat_minor": 0
}
